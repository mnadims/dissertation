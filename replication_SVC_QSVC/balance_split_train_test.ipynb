{
 "cells": [
  {
   "cell_type": "code",
   "execution_count": 2,
   "id": "098ac64d-379e-4342-83ac-04467f7718e6",
   "metadata": {},
   "outputs": [],
   "source": [
    "import pandas as pd\n",
    "import numpy as np\n",
    "from sklearn.utils import resample\n",
    "from collections import Counter\n",
    "\n",
    "from custom_functions import read_df, split_train_test_NBest, remove_constant_columns\n",
    "#, my_round, print_result, getQAlgo, aggregate_pred, weighted_average, "
   ]
  },
  {
   "cell_type": "code",
   "execution_count": 7,
   "id": "3b35170e-aa37-41a6-84bf-b6eb2ae073de",
   "metadata": {},
   "outputs": [],
   "source": []
  },
  {
   "cell_type": "code",
   "execution_count": 15,
   "id": "aee9282f-b86e-40ed-8a5f-1d25c5b0bcb9",
   "metadata": {},
   "outputs": [],
   "source": [
    "import pandas as pd\n",
    "from sklearn.feature_selection import SelectKBest\n",
    "from sklearn.feature_selection import mutual_info_classif\n",
    "\n"
   ]
  },
  {
   "cell_type": "code",
   "execution_count": 25,
   "id": "72a151d3-b7cc-4961-ae88-a5ca5eab5ccc",
   "metadata": {},
   "outputs": [
    {
     "name": "stdout",
     "output_type": "stream",
     "text": [
      "(10885, 22)\n",
      "Counter({False: 8779, True: 2106})\n",
      "Counter({True: 2106, False: 2106})\n",
      "Counter({False: 1693, True: 1676})\n",
      "Counter({True: 430, False: 413})\n",
      "(3369, 11) (843, 11)\n"
     ]
    }
   ],
   "source": [
    "data_dir = \"datasets/\"\n",
    "filename = 'jm1'\n",
    "df = read_df(data_dir + filename+'.csv', split=False)\n",
    "print(df.shape)\n",
    "print(Counter(df.iloc[:, -1]))\n",
    "df = my_resample(df)\n",
    "# Check the class distribution in the resampled DataFrame\n",
    "print(Counter(df.iloc[:, -1]))\n",
    "df = select_n_features(df, 10)\n",
    "train_size = int(len(df)*0.80)\n",
    "\n",
    "df_train = df.iloc[0:train_size, :]\n",
    "df_test = df.iloc[train_size:, :]\n",
    "\n",
    "print(Counter(df_train.iloc[:, -1]))\n",
    "print(Counter(df_test.iloc[:, -1]))\n",
    "\n",
    "print(df_train.shape, df_test.shape)\n",
    "df_train.to_csv('b_jm1_train.csv', index=False)\n",
    "df_test.to_csv('b_jm1_test.csv', index=False)"
   ]
  }
 ],
 "metadata": {
  "kernelspec": {
   "display_name": "Python 3 (ipykernel)",
   "language": "python",
   "name": "python3"
  },
  "language_info": {
   "codemirror_mode": {
    "name": "ipython",
    "version": 3
   },
   "file_extension": ".py",
   "mimetype": "text/x-python",
   "name": "python",
   "nbconvert_exporter": "python",
   "pygments_lexer": "ipython3",
   "version": "3.10.9"
  }
 },
 "nbformat": 4,
 "nbformat_minor": 5
}
