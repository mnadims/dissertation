{
 "cells": [
  {
   "cell_type": "code",
   "execution_count": 1,
   "id": "fd90042c-8328-4f9f-bd23-5a20c1c30d4b",
   "metadata": {},
   "outputs": [],
   "source": [
    "from sklearn.preprocessing import StandardScaler, MinMaxScaler\n",
    "from sklearn.pipeline import make_pipeline\n",
    "from sklearn.svm import SVC\n",
    "from sklearn.ensemble import RandomForestClassifier, GradientBoostingClassifier\n",
    "from sklearn.linear_model import Perceptron\n",
    "from sklearn.neighbors import KNeighborsClassifier\n",
    "from sklearn.metrics import precision_recall_fscore_support, confusion_matrix\n",
    "from qiskit_machine_learning.algorithms import QSVC, PegasosQSVC\n",
    "from qiskit_machine_learning.kernels import FidelityQuantumKernel\n",
    "from qiskit.circuit.library import ZZFeatureMap\n",
    "from qiskit_algorithms.utils import algorithm_globals\n",
    "from multiprocessing import Process\n",
    "import pandas as pd\n",
    "import numpy as np\n",
    "import os\n",
    "from collections import Counter\n",
    "import json\n",
    "\n",
    "from custom_functions import print_result, getQAlgo, aggregate_pred, weighted_average\n",
    "from custom_functions import read_df, save_to_file, print_arr, inc_prediction"
   ]
  },
  {
   "cell_type": "code",
   "execution_count": 2,
   "id": "ce364c46-b8fa-4c4e-b5a8-4a878894329e",
   "metadata": {},
   "outputs": [],
   "source": [
    "data_dir = \"datasets/balanced/\"\n",
    "model_dir = \"inc_saved_models/\"\n",
    "output_dir = \"output/val_dump/\"\n",
    "\n",
    "with open('datasets/balanced/ss_dict.json', 'r') as f:\n",
    "    ss_dict = json.load(f)"
   ]
  },
  {
   "cell_type": "code",
   "execution_count": 3,
   "id": "1a68c9ec-da40-4f14-9647-c68c60eb3d87",
   "metadata": {},
   "outputs": [
    {
     "name": "stdout",
     "output_type": "stream",
     "text": [
      "anysoftkeyboard\n",
      "(688, 6) (688,) Counter({1: 345, 0: 343})\n",
      "0 500\n",
      "Model: anysoftkeyboard_0_500.model\n"
     ]
    },
    {
     "name": "stderr",
     "output_type": "stream",
     "text": [
      " 99%|█████████▉| 680/688 [13:48<00:09,  1.22s/it]\n"
     ]
    },
    {
     "name": "stdout",
     "output_type": "stream",
     "text": [
      "file: anysoftkeyboard, model: anysoftkeyboard_0_500.model, testing time: 828.07 seconds\n",
      "\n",
      "[[256  87]\n",
      " [153 192]]\n",
      "[0.65, 0.69, 0.56, 0.62, 0.65, 0.31]\n",
      "#=======================================\n",
      "0 1000\n",
      "Model: anysoftkeyboard_0_1000.model\n"
     ]
    },
    {
     "name": "stderr",
     "output_type": "stream",
     "text": [
      " 99%|█████████▉| 680/688 [13:49<00:09,  1.22s/it]\n"
     ]
    },
    {
     "name": "stdout",
     "output_type": "stream",
     "text": [
      "file: anysoftkeyboard, model: anysoftkeyboard_0_1000.model, testing time: 829.12 seconds\n",
      "\n",
      "[[190 153]\n",
      " [105 240]]\n",
      "[0.62, 0.61, 0.7, 0.65, 0.62, 0.25]\n",
      "#=======================================\n",
      "0 1500\n",
      "Model: anysoftkeyboard_0_1500.model\n"
     ]
    },
    {
     "name": "stderr",
     "output_type": "stream",
     "text": [
      " 99%|█████████▉| 680/688 [14:12<00:10,  1.25s/it]\n"
     ]
    },
    {
     "name": "stdout",
     "output_type": "stream",
     "text": [
      "file: anysoftkeyboard, model: anysoftkeyboard_0_1500.model, testing time: 852.76 seconds\n",
      "\n",
      "[[213 130]\n",
      " [107 238]]\n",
      "[0.66, 0.65, 0.69, 0.67, 0.66, 0.31]\n",
      "#=======================================\n",
      "0 2000\n",
      "Model: anysoftkeyboard_0_2000.model\n"
     ]
    },
    {
     "name": "stderr",
     "output_type": "stream",
     "text": [
      " 99%|█████████▉| 680/688 [14:32<00:10,  1.28s/it]\n"
     ]
    },
    {
     "name": "stdout",
     "output_type": "stream",
     "text": [
      "file: anysoftkeyboard, model: anysoftkeyboard_0_2000.model, testing time: 872.84 seconds\n",
      "\n",
      "[[194 149]\n",
      " [124 221]]\n",
      "[0.6, 0.6, 0.64, 0.62, 0.6, 0.21]\n",
      "#=======================================\n",
      "0 2500\n",
      "Model: anysoftkeyboard_0_2500.model\n"
     ]
    },
    {
     "name": "stderr",
     "output_type": "stream",
     "text": [
      " 99%|█████████▉| 680/688 [15:03<00:10,  1.33s/it]\n"
     ]
    },
    {
     "name": "stdout",
     "output_type": "stream",
     "text": [
      "file: anysoftkeyboard, model: anysoftkeyboard_0_2500.model, testing time: 903.7 seconds\n",
      "\n",
      "[[220 123]\n",
      " [134 211]]\n",
      "[0.63, 0.63, 0.61, 0.62, 0.63, 0.25]\n",
      "#=======================================\n",
      "0 3000\n",
      "Model: anysoftkeyboard_0_3000.model\n"
     ]
    },
    {
     "name": "stderr",
     "output_type": "stream",
     "text": [
      " 99%|█████████▉| 680/688 [14:13<00:10,  1.26s/it]\n"
     ]
    },
    {
     "name": "stdout",
     "output_type": "stream",
     "text": [
      "file: anysoftkeyboard, model: anysoftkeyboard_0_3000.model, testing time: 853.8 seconds\n",
      "\n",
      "[[222 121]\n",
      " [144 201]]\n",
      "[0.61, 0.62, 0.58, 0.6, 0.61, 0.23]\n",
      "#=======================================\n",
      "0 3500\n",
      "Model: anysoftkeyboard_0_3500.model\n"
     ]
    },
    {
     "name": "stderr",
     "output_type": "stream",
     "text": [
      " 99%|█████████▉| 680/688 [14:12<00:10,  1.25s/it]\n"
     ]
    },
    {
     "name": "stdout",
     "output_type": "stream",
     "text": [
      "file: anysoftkeyboard, model: anysoftkeyboard_0_3500.model, testing time: 852.61 seconds\n",
      "\n",
      "[[237 106]\n",
      " [134 211]]\n",
      "[0.65, 0.67, 0.61, 0.64, 0.65, 0.3]\n",
      "#=======================================\n",
      "0 4000\n",
      "Model: anysoftkeyboard_0_4000.model\n"
     ]
    },
    {
     "name": "stderr",
     "output_type": "stream",
     "text": [
      " 99%|█████████▉| 680/688 [14:03<00:09,  1.24s/it]\n"
     ]
    },
    {
     "name": "stdout",
     "output_type": "stream",
     "text": [
      "file: anysoftkeyboard, model: anysoftkeyboard_0_4000.model, testing time: 843.26 seconds\n",
      "\n",
      "[[218 125]\n",
      " [128 217]]\n",
      "[0.63, 0.63, 0.63, 0.63, 0.63, 0.26]\n",
      "#=======================================\n",
      "0 4500\n",
      "Model: anysoftkeyboard_0_4500.model\n"
     ]
    },
    {
     "name": "stderr",
     "output_type": "stream",
     "text": [
      " 99%|█████████▉| 680/688 [14:08<00:09,  1.25s/it]\n"
     ]
    },
    {
     "name": "stdout",
     "output_type": "stream",
     "text": [
      "file: anysoftkeyboard, model: anysoftkeyboard_0_4500.model, testing time: 848.37 seconds\n",
      "\n",
      "[[251  92]\n",
      " [161 184]]\n",
      "[0.63, 0.67, 0.53, 0.59, 0.63, 0.27]\n",
      "#=======================================\n",
      "0 5000\n",
      "Model: anysoftkeyboard_0_5000.model\n"
     ]
    },
    {
     "name": "stderr",
     "output_type": "stream",
     "text": [
      " 99%|█████████▉| 680/688 [14:06<00:09,  1.25s/it]\n"
     ]
    },
    {
     "name": "stdout",
     "output_type": "stream",
     "text": [
      "file: anysoftkeyboard, model: anysoftkeyboard_0_5000.model, testing time: 846.84 seconds\n",
      "\n",
      "[[219 124]\n",
      " [124 221]]\n",
      "[0.64, 0.64, 0.64, 0.64, 0.64, 0.28]\n",
      "#=======================================\n",
      "0 5500\n",
      "Model: anysoftkeyboard_0_5500.model\n"
     ]
    },
    {
     "name": "stderr",
     "output_type": "stream",
     "text": [
      " 99%|█████████▉| 680/688 [13:56<00:09,  1.23s/it]\n"
     ]
    },
    {
     "name": "stdout",
     "output_type": "stream",
     "text": [
      "file: anysoftkeyboard, model: anysoftkeyboard_0_5500.model, testing time: 836.0 seconds\n",
      "\n",
      "[[254  89]\n",
      " [150 195]]\n",
      "[0.65, 0.69, 0.57, 0.62, 0.65, 0.31]\n",
      "#=======================================\n",
      "0 6000\n",
      "Model: anysoftkeyboard_0_6000.model\n"
     ]
    },
    {
     "name": "stderr",
     "output_type": "stream",
     "text": [
      " 99%|█████████▉| 680/688 [14:14<00:10,  1.26s/it]\n"
     ]
    },
    {
     "name": "stdout",
     "output_type": "stream",
     "text": [
      "file: anysoftkeyboard, model: anysoftkeyboard_0_6000.model, testing time: 854.6 seconds\n",
      "\n",
      "[[210 133]\n",
      " [118 227]]\n",
      "[0.64, 0.63, 0.66, 0.64, 0.64, 0.27]\n",
      "#=======================================\n",
      "0 6500\n",
      "Model: anysoftkeyboard_0_6500.model\n"
     ]
    },
    {
     "name": "stderr",
     "output_type": "stream",
     "text": [
      " 99%|█████████▉| 680/688 [14:40<00:10,  1.30s/it]\n"
     ]
    },
    {
     "name": "stdout",
     "output_type": "stream",
     "text": [
      "file: anysoftkeyboard, model: anysoftkeyboard_0_6500.model, testing time: 880.82 seconds\n",
      "\n",
      "[[205 138]\n",
      " [103 242]]\n",
      "[0.65, 0.64, 0.7, 0.67, 0.65, 0.3]\n",
      "#=======================================\n",
      "0 6883\n",
      "Model: anysoftkeyboard_0_6883.model\n"
     ]
    },
    {
     "name": "stderr",
     "output_type": "stream",
     "text": [
      " 99%|█████████▉| 680/688 [10:38<00:07,  1.07it/s]\n"
     ]
    },
    {
     "name": "stdout",
     "output_type": "stream",
     "text": [
      "file: anysoftkeyboard, model: anysoftkeyboard_0_6883.model, testing time: 638.26 seconds\n",
      "\n",
      "[[204 139]\n",
      " [122 223]]\n",
      "[0.62, 0.62, 0.65, 0.63, 0.62, 0.24]\n",
      "#=======================================\n",
      "#=================xxxxxxx======================\n",
      "facebook\n",
      "(352, 6) (352,) Counter({0: 180, 1: 172})\n",
      "0 500\n",
      "Model: facebook_0_500.model\n"
     ]
    },
    {
     "name": "stderr",
     "output_type": "stream",
     "text": [
      " 99%|█████████▉| 350/352 [07:06<00:02,  1.22s/it]\n"
     ]
    },
    {
     "name": "stdout",
     "output_type": "stream",
     "text": [
      "file: facebook, model: facebook_0_500.model, testing time: 426.09 seconds\n",
      "\n",
      "[[142  38]\n",
      " [ 28 144]]\n",
      "[0.81, 0.79, 0.84, 0.81, 0.81, 0.63]\n",
      "#=======================================\n",
      "0 1000\n",
      "Model: facebook_0_1000.model\n"
     ]
    },
    {
     "name": "stderr",
     "output_type": "stream",
     "text": [
      " 99%|█████████▉| 350/352 [07:07<00:02,  1.22s/it]\n"
     ]
    },
    {
     "name": "stdout",
     "output_type": "stream",
     "text": [
      "file: facebook, model: facebook_0_1000.model, testing time: 427.06 seconds\n",
      "\n",
      "[[140  40]\n",
      " [ 29 143]]\n",
      "[0.8, 0.78, 0.83, 0.81, 0.8, 0.61]\n",
      "#=======================================\n",
      "0 1500\n",
      "Model: facebook_0_1500.model\n"
     ]
    },
    {
     "name": "stderr",
     "output_type": "stream",
     "text": [
      " 99%|█████████▉| 350/352 [07:06<00:02,  1.22s/it]\n"
     ]
    },
    {
     "name": "stdout",
     "output_type": "stream",
     "text": [
      "file: facebook, model: facebook_0_1500.model, testing time: 426.97 seconds\n",
      "\n",
      "[[141  39]\n",
      " [ 30 142]]\n",
      "[0.8, 0.78, 0.83, 0.8, 0.8, 0.61]\n",
      "#=======================================\n",
      "0 2000\n",
      "Model: facebook_0_2000.model\n"
     ]
    },
    {
     "name": "stderr",
     "output_type": "stream",
     "text": [
      " 99%|█████████▉| 350/352 [07:07<00:02,  1.22s/it]\n"
     ]
    },
    {
     "name": "stdout",
     "output_type": "stream",
     "text": [
      "file: facebook, model: facebook_0_2000.model, testing time: 427.39 seconds\n",
      "\n",
      "[[138  42]\n",
      " [ 20 152]]\n",
      "[0.82, 0.78, 0.88, 0.83, 0.83, 0.65]\n",
      "#=======================================\n",
      "0 2500\n",
      "Model: facebook_0_2500.model\n"
     ]
    },
    {
     "name": "stderr",
     "output_type": "stream",
     "text": [
      " 99%|█████████▉| 350/352 [07:07<00:02,  1.22s/it]\n"
     ]
    },
    {
     "name": "stdout",
     "output_type": "stream",
     "text": [
      "file: facebook, model: facebook_0_2500.model, testing time: 427.58 seconds\n",
      "\n",
      "[[137  43]\n",
      " [ 24 148]]\n",
      "[0.81, 0.77, 0.86, 0.82, 0.81, 0.62]\n",
      "#=======================================\n",
      "0 3000\n",
      "Model: facebook_0_3000.model\n"
     ]
    },
    {
     "name": "stderr",
     "output_type": "stream",
     "text": [
      " 99%|█████████▉| 350/352 [07:07<00:02,  1.22s/it]\n"
     ]
    },
    {
     "name": "stdout",
     "output_type": "stream",
     "text": [
      "file: facebook, model: facebook_0_3000.model, testing time: 427.29 seconds\n",
      "\n",
      "[[139  41]\n",
      " [ 28 144]]\n",
      "[0.8, 0.78, 0.84, 0.81, 0.8, 0.61]\n",
      "#=======================================\n",
      "0 3500\n",
      "Model: facebook_0_3500.model\n"
     ]
    },
    {
     "name": "stderr",
     "output_type": "stream",
     "text": [
      " 99%|█████████▉| 350/352 [07:06<00:02,  1.22s/it]\n"
     ]
    },
    {
     "name": "stdout",
     "output_type": "stream",
     "text": [
      "file: facebook, model: facebook_0_3500.model, testing time: 426.77 seconds\n",
      "\n",
      "[[151  29]\n",
      " [ 40 132]]\n",
      "[0.8, 0.82, 0.77, 0.79, 0.8, 0.61]\n",
      "#=======================================\n",
      "0 3523\n",
      "Model: facebook_0_3523.model\n"
     ]
    },
    {
     "name": "stderr",
     "output_type": "stream",
     "text": [
      " 99%|█████████▉| 350/352 [00:22<00:00, 15.48it/s]\n"
     ]
    },
    {
     "name": "stdout",
     "output_type": "stream",
     "text": [
      "file: facebook, model: facebook_0_3523.model, testing time: 22.61 seconds\n",
      "\n",
      "[[ 46 134]\n",
      " [ 22 150]]\n",
      "[0.56, 0.53, 0.87, 0.66, 0.56, 0.16]\n",
      "#=======================================\n",
      "#=================xxxxxxx======================\n",
      "kiwis\n",
      "(490, 6) (490,) Counter({1: 248, 0: 242})\n",
      "0 500\n",
      "Model: kiwis_0_500.model\n"
     ]
    },
    {
     "name": "stderr",
     "output_type": "stream",
     "text": [
      "100%|██████████| 490/490 [09:49<00:00,  1.20s/it]\n"
     ]
    },
    {
     "name": "stdout",
     "output_type": "stream",
     "text": [
      "file: kiwis, model: kiwis_0_500.model, testing time: 589.65 seconds\n",
      "\n",
      "[[170  72]\n",
      " [113 135]]\n",
      "[0.62, 0.65, 0.54, 0.59, 0.62, 0.25]\n",
      "#=======================================\n",
      "0 1000\n",
      "Model: kiwis_0_1000.model\n"
     ]
    },
    {
     "name": "stderr",
     "output_type": "stream",
     "text": [
      "100%|██████████| 490/490 [09:47<00:00,  1.20s/it]\n"
     ]
    },
    {
     "name": "stdout",
     "output_type": "stream",
     "text": [
      "file: kiwis, model: kiwis_0_1000.model, testing time: 587.36 seconds\n",
      "\n",
      "[[161  81]\n",
      " [ 74 174]]\n",
      "[0.68, 0.68, 0.7, 0.69, 0.68, 0.37]\n",
      "#=======================================\n",
      "0 1500\n",
      "Model: kiwis_0_1500.model\n"
     ]
    },
    {
     "name": "stderr",
     "output_type": "stream",
     "text": [
      "100%|██████████| 490/490 [09:46<00:00,  1.20s/it]\n"
     ]
    },
    {
     "name": "stdout",
     "output_type": "stream",
     "text": [
      "file: kiwis, model: kiwis_0_1500.model, testing time: 586.84 seconds\n",
      "\n",
      "[[160  82]\n",
      " [ 91 157]]\n",
      "[0.65, 0.66, 0.63, 0.64, 0.65, 0.29]\n",
      "#=======================================\n",
      "0 2000\n",
      "Model: kiwis_0_2000.model\n"
     ]
    },
    {
     "name": "stderr",
     "output_type": "stream",
     "text": [
      "100%|██████████| 490/490 [09:47<00:00,  1.20s/it]\n"
     ]
    },
    {
     "name": "stdout",
     "output_type": "stream",
     "text": [
      "file: kiwis, model: kiwis_0_2000.model, testing time: 587.73 seconds\n",
      "\n",
      "[[139 103]\n",
      " [ 90 158]]\n",
      "[0.61, 0.61, 0.64, 0.62, 0.61, 0.21]\n",
      "#=======================================\n",
      "0 2500\n",
      "Model: kiwis_0_2500.model\n"
     ]
    },
    {
     "name": "stderr",
     "output_type": "stream",
     "text": [
      "100%|██████████| 490/490 [09:47<00:00,  1.20s/it]\n"
     ]
    },
    {
     "name": "stdout",
     "output_type": "stream",
     "text": [
      "file: kiwis, model: kiwis_0_2500.model, testing time: 587.71 seconds\n",
      "\n",
      "[[168  74]\n",
      " [ 98 150]]\n",
      "[0.65, 0.67, 0.6, 0.64, 0.65, 0.3]\n",
      "#=======================================\n",
      "0 3000\n",
      "Model: kiwis_0_3000.model\n"
     ]
    },
    {
     "name": "stderr",
     "output_type": "stream",
     "text": [
      "100%|██████████| 490/490 [09:46<00:00,  1.20s/it]\n"
     ]
    },
    {
     "name": "stdout",
     "output_type": "stream",
     "text": [
      "file: kiwis, model: kiwis_0_3000.model, testing time: 586.82 seconds\n",
      "\n",
      "[[158  84]\n",
      " [ 88 160]]\n",
      "[0.65, 0.66, 0.65, 0.65, 0.65, 0.3]\n",
      "#=======================================\n",
      "0 3500\n",
      "Model: kiwis_0_3500.model\n"
     ]
    },
    {
     "name": "stderr",
     "output_type": "stream",
     "text": [
      "100%|██████████| 490/490 [09:47<00:00,  1.20s/it]\n"
     ]
    },
    {
     "name": "stdout",
     "output_type": "stream",
     "text": [
      "file: kiwis, model: kiwis_0_3500.model, testing time: 587.43 seconds\n",
      "\n",
      "[[146  96]\n",
      " [ 89 159]]\n",
      "[0.62, 0.62, 0.64, 0.63, 0.62, 0.24]\n",
      "#=======================================\n",
      "0 4000\n",
      "Model: kiwis_0_4000.model\n"
     ]
    },
    {
     "name": "stderr",
     "output_type": "stream",
     "text": [
      "100%|██████████| 490/490 [09:47<00:00,  1.20s/it]\n"
     ]
    },
    {
     "name": "stdout",
     "output_type": "stream",
     "text": [
      "file: kiwis, model: kiwis_0_4000.model, testing time: 587.76 seconds\n",
      "\n",
      "[[166  76]\n",
      " [107 141]]\n",
      "[0.63, 0.65, 0.57, 0.61, 0.63, 0.26]\n",
      "#=======================================\n",
      "0 4500\n",
      "Model: kiwis_0_4500.model\n"
     ]
    },
    {
     "name": "stderr",
     "output_type": "stream",
     "text": [
      "100%|██████████| 490/490 [09:48<00:00,  1.20s/it]\n"
     ]
    },
    {
     "name": "stdout",
     "output_type": "stream",
     "text": [
      "file: kiwis, model: kiwis_0_4500.model, testing time: 588.1 seconds\n",
      "\n",
      "[[178  64]\n",
      " [104 144]]\n",
      "[0.66, 0.69, 0.58, 0.63, 0.66, 0.32]\n",
      "#=======================================\n",
      "0 4905\n",
      "Model: kiwis_0_4905.model\n"
     ]
    },
    {
     "name": "stderr",
     "output_type": "stream",
     "text": [
      "100%|██████████| 490/490 [07:46<00:00,  1.05it/s]\n"
     ]
    },
    {
     "name": "stdout",
     "output_type": "stream",
     "text": [
      "file: kiwis, model: kiwis_0_4905.model, testing time: 466.46 seconds\n",
      "\n",
      "[[166  76]\n",
      " [112 136]]\n",
      "[0.62, 0.64, 0.55, 0.59, 0.62, 0.24]\n",
      "#=======================================\n",
      "#=================xxxxxxx======================\n",
      "jm1\n",
      "(337, 10) (337,) Counter({0: 170, 1: 167})\n",
      "0 500\n",
      "Model: jm1_0_500.model\n"
     ]
    },
    {
     "name": "stderr",
     "output_type": "stream",
     "text": [
      " 98%|█████████▊| 330/337 [32:33<00:41,  5.92s/it]\n"
     ]
    },
    {
     "name": "stdout",
     "output_type": "stream",
     "text": [
      "file: jm1, model: jm1_0_500.model, testing time: 1953.82 seconds\n",
      "\n",
      "[[96 74]\n",
      " [70 97]]\n",
      "[0.57, 0.57, 0.58, 0.57, 0.57, 0.15]\n",
      "#=======================================\n",
      "0 1000\n",
      "Model: jm1_0_1000.model\n"
     ]
    },
    {
     "name": "stderr",
     "output_type": "stream",
     "text": [
      " 98%|█████████▊| 330/337 [32:15<00:41,  5.87s/it]\n"
     ]
    },
    {
     "name": "stdout",
     "output_type": "stream",
     "text": [
      "file: jm1, model: jm1_0_1000.model, testing time: 1935.84 seconds\n",
      "\n",
      "[[145  25]\n",
      " [115  52]]\n",
      "[0.58, 0.68, 0.31, 0.43, 0.58, 0.2]\n",
      "#=======================================\n",
      "0 1500\n",
      "Model: jm1_0_1500.model\n"
     ]
    },
    {
     "name": "stderr",
     "output_type": "stream",
     "text": [
      " 98%|█████████▊| 330/337 [32:05<00:40,  5.83s/it]\n"
     ]
    },
    {
     "name": "stdout",
     "output_type": "stream",
     "text": [
      "file: jm1, model: jm1_0_1500.model, testing time: 1925.36 seconds\n",
      "\n",
      "[[116  54]\n",
      " [ 88  79]]\n",
      "[0.58, 0.59, 0.47, 0.53, 0.58, 0.16]\n",
      "#=======================================\n",
      "0 2000\n",
      "Model: jm1_0_2000.model\n"
     ]
    },
    {
     "name": "stderr",
     "output_type": "stream",
     "text": [
      " 98%|█████████▊| 330/337 [32:01<00:40,  5.82s/it]\n"
     ]
    },
    {
     "name": "stdout",
     "output_type": "stream",
     "text": [
      "file: jm1, model: jm1_0_2000.model, testing time: 1921.7 seconds\n",
      "\n",
      "[[ 67 103]\n",
      " [ 38 129]]\n",
      "[0.58, 0.56, 0.77, 0.65, 0.58, 0.18]\n",
      "#=======================================\n",
      "0 2500\n",
      "Model: jm1_0_2500.model\n"
     ]
    },
    {
     "name": "stderr",
     "output_type": "stream",
     "text": [
      " 98%|█████████▊| 330/337 [32:02<00:40,  5.82s/it]\n"
     ]
    },
    {
     "name": "stdout",
     "output_type": "stream",
     "text": [
      "file: jm1, model: jm1_0_2500.model, testing time: 1922.08 seconds\n",
      "\n",
      "[[ 70 100]\n",
      " [ 51 116]]\n",
      "[0.55, 0.54, 0.69, 0.61, 0.55, 0.11]\n",
      "#=======================================\n",
      "0 3000\n",
      "Model: jm1_0_3000.model\n"
     ]
    },
    {
     "name": "stderr",
     "output_type": "stream",
     "text": [
      " 98%|█████████▊| 330/337 [32:07<00:40,  5.84s/it]\n"
     ]
    },
    {
     "name": "stdout",
     "output_type": "stream",
     "text": [
      "file: jm1, model: jm1_0_3000.model, testing time: 1927.34 seconds\n",
      "\n",
      "[[138  32]\n",
      " [ 96  71]]\n",
      "[0.62, 0.69, 0.43, 0.53, 0.62, 0.26]\n",
      "#=======================================\n",
      "0 3369\n",
      "Model: jm1_0_3369.model\n"
     ]
    },
    {
     "name": "stderr",
     "output_type": "stream",
     "text": [
      " 98%|█████████▊| 330/337 [23:42<00:30,  4.31s/it]\n"
     ]
    },
    {
     "name": "stdout",
     "output_type": "stream",
     "text": [
      "file: jm1, model: jm1_0_3369.model, testing time: 1422.3 seconds\n",
      "\n",
      "[[ 45 125]\n",
      " [ 16 151]]\n",
      "[0.58, 0.55, 0.9, 0.68, 0.58, 0.22]\n",
      "#=======================================\n",
      "#=================xxxxxxx======================\n",
      "camel\n",
      "(93, 10) (93,) Counter({1: 48, 0: 45})\n",
      "0 500\n",
      "Model: camel_0_500.model\n"
     ]
    },
    {
     "name": "stderr",
     "output_type": "stream",
     "text": [
      " 97%|█████████▋| 90/93 [07:45<00:15,  5.18s/it]\n"
     ]
    },
    {
     "name": "stdout",
     "output_type": "stream",
     "text": [
      "file: camel, model: camel_0_500.model, testing time: 465.81 seconds\n",
      "\n",
      "[[35 10]\n",
      " [ 6 42]]\n",
      "[0.83, 0.81, 0.88, 0.84, 0.83, 0.66]\n",
      "#=======================================\n",
      "0 928\n",
      "Model: camel_0_928.model\n"
     ]
    },
    {
     "name": "stderr",
     "output_type": "stream",
     "text": [
      " 97%|█████████▋| 90/93 [06:40<00:13,  4.45s/it]\n"
     ]
    },
    {
     "name": "stdout",
     "output_type": "stream",
     "text": [
      "file: camel, model: camel_0_928.model, testing time: 400.14 seconds\n",
      "\n",
      "[[35 10]\n",
      " [ 5 43]]\n",
      "[0.84, 0.81, 0.9, 0.85, 0.84, 0.68]\n",
      "#=======================================\n",
      "#=================xxxxxxx======================\n",
      "os\n",
      "(94, 10) (94,) Counter({0: 60, 1: 34})\n",
      "0 500\n",
      "Model: os_0_500.model\n"
     ]
    },
    {
     "name": "stderr",
     "output_type": "stream",
     "text": [
      " 96%|█████████▌| 90/94 [06:06<00:16,  4.07s/it]\n"
     ]
    },
    {
     "name": "stdout",
     "output_type": "stream",
     "text": [
      "file: os, model: os_0_500.model, testing time: 366.35 seconds\n",
      "\n",
      "[[47 13]\n",
      " [ 3 31]]\n",
      "[0.83, 0.7, 0.91, 0.79, 0.85, 0.67]\n",
      "#=======================================\n",
      "0 936\n",
      "Model: os_0_936.model\n"
     ]
    },
    {
     "name": "stderr",
     "output_type": "stream",
     "text": [
      " 96%|█████████▌| 90/94 [05:18<00:14,  3.54s/it]"
     ]
    },
    {
     "name": "stdout",
     "output_type": "stream",
     "text": [
      "file: os, model: os_0_936.model, testing time: 318.19 seconds\n",
      "\n",
      "[[44 16]\n",
      " [ 1 33]]\n",
      "[0.82, 0.67, 0.97, 0.8, 0.85, 0.68]\n",
      "#=======================================\n",
      "#=================xxxxxxx======================\n"
     ]
    },
    {
     "name": "stderr",
     "output_type": "stream",
     "text": [
      "\n"
     ]
    }
   ],
   "source": [
    "list_predictions = []\n",
    "for filename in ['anysoftkeyboard', 'facebook', 'kiwis', 'jm1', 'camel', 'os']: #'anysoftkeyboard', \n",
    "    #filename = \"anysoftkeyboard\"\n",
    "    print(filename)\n",
    "    valX, valY = read_df(data_dir + 'b_'+filename+'_train.csv', sample_size=0.10) #Take 10% of the whole training dataset\n",
    "    print(valX.shape, valY.shape, Counter(valY))\n",
    "\n",
    "    y_filename = f'{output_dir}{filename}_valY.txt'\n",
    "    save_to_file(valY, y_filename)\n",
    "\n",
    "    train_len = ss_dict[filename][0]\n",
    "    cur_predictions = []\n",
    "    x_st = 0\n",
    "    for x_end in list(range(500, train_len, 500))+[train_len]:\n",
    "        print(x_st, x_end)\n",
    "        model_name = f\"{filename}_{x_st}_{x_end}.model\"\n",
    "     \n",
    "        print(f\"Model: {model_name}\")\n",
    "        clf = QSVC.load(f\"inc_saved_models/{model_name}\") #Load QSVC \n",
    "        predict1D, runtime = inc_prediction(clf, valX)   \n",
    "        cur_predictions.append(predict1D)\n",
    "        print(f'file: {filename}, model: {model_name}, testing time: {runtime} seconds\\n')\n",
    "\n",
    "        print(confusion_matrix(valY, predict1D))\n",
    "        print(print_result(valY, predict1D))\n",
    "\n",
    "        outfilename = model_name.replace('.model', '')\n",
    "        save_to_file(predict1D, f'{output_dir}{outfilename}.txt')\n",
    "        print(\"#=======================================\")\n",
    "        \n",
    "    list_predictions.append(cur_predictions)\n",
    "    print(\"#=================xxxxxxx======================\")"
   ]
  },
  {
   "cell_type": "code",
   "execution_count": null,
   "id": "79c35f3e-eaa5-4a40-9f69-cef21ff95e74",
   "metadata": {},
   "outputs": [],
   "source": [
    "filename = \"anysoftkeyboard\"\n",
    "valX, valY = read_df(data_dir + 'b_'+filename+'_train.csv', sample_size=0.10) #Take 10% of the whole training dataset\n",
    "print(valX.shape, valY.shape, Counter(valY))\n",
    "\n",
    "y_filename = f'output/val_dump/{filename}_valY.txt'\n",
    "save_to_file(valY, y_filename)"
   ]
  },
  {
   "cell_type": "code",
   "execution_count": null,
   "id": "eb5ece1d-69d2-430b-9828-2dbceedb1ef2",
   "metadata": {},
   "outputs": [],
   "source": [
    "#BREAK POINT!!!"
   ]
  }
 ],
 "metadata": {
  "kernelspec": {
   "display_name": "Python 3 (ipykernel)",
   "language": "python",
   "name": "python3"
  },
  "language_info": {
   "codemirror_mode": {
    "name": "ipython",
    "version": 3
   },
   "file_extension": ".py",
   "mimetype": "text/x-python",
   "name": "python",
   "nbconvert_exporter": "python",
   "pygments_lexer": "ipython3",
   "version": "3.10.9"
  }
 },
 "nbformat": 4,
 "nbformat_minor": 5
}
