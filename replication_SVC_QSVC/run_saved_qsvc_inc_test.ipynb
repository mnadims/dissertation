{
 "cells": [
  {
   "cell_type": "code",
   "execution_count": 1,
   "id": "fd90042c-8328-4f9f-bd23-5a20c1c30d4b",
   "metadata": {},
   "outputs": [],
   "source": [
    "from sklearn.preprocessing import StandardScaler, MinMaxScaler\n",
    "from sklearn.pipeline import make_pipeline\n",
    "from sklearn.svm import SVC\n",
    "from sklearn.ensemble import RandomForestClassifier, GradientBoostingClassifier\n",
    "from sklearn.linear_model import Perceptron\n",
    "from sklearn.neighbors import KNeighborsClassifier\n",
    "from sklearn.metrics import precision_recall_fscore_support, confusion_matrix\n",
    "from qiskit_machine_learning.algorithms import QSVC, PegasosQSVC\n",
    "from qiskit_machine_learning.kernels import FidelityQuantumKernel\n",
    "from qiskit.circuit.library import ZZFeatureMap\n",
    "from qiskit_algorithms.utils import algorithm_globals\n",
    "from multiprocessing import Process\n",
    "import pandas as pd\n",
    "import numpy as np\n",
    "import os\n",
    "from collections import Counter\n",
    "import json\n",
    "\n",
    "from custom_functions import print_result, getQAlgo, aggregate_pred, weighted_average\n",
    "from custom_functions import read_df, save_to_file, print_arr, inc_prediction"
   ]
  },
  {
   "cell_type": "code",
   "execution_count": 2,
   "id": "ce364c46-b8fa-4c4e-b5a8-4a878894329e",
   "metadata": {},
   "outputs": [],
   "source": [
    "data_dir = \"datasets/balanced/\"\n",
    "model_dir = \"inc_saved_models/\"\n",
    "\n",
    "# filename = \"anysoftkeyboard\"\n",
    "# print(filename)\n",
    "\n",
    "with open('datasets/balanced/ss_dict.json', 'r') as f:\n",
    "    ss_dict = json.load(f)"
   ]
  },
  {
   "cell_type": "code",
   "execution_count": 3,
   "id": "1a68c9ec-da40-4f14-9647-c68c60eb3d87",
   "metadata": {},
   "outputs": [
    {
     "name": "stdout",
     "output_type": "stream",
     "text": [
      "facebook\n",
      "(881, 6) (881,) Counter({1: 443, 0: 438})\n",
      "0 500\n",
      "Model: facebook_0_500.model\n"
     ]
    },
    {
     "name": "stderr",
     "output_type": "stream",
     "text": [
      "100%|██████████| 881/881 [17:49<00:00,  1.21s/it]\n"
     ]
    },
    {
     "name": "stdout",
     "output_type": "stream",
     "text": [
      "file: facebook, model: facebook_0_500.model, testing time: 1069.51 seconds\n",
      "\n",
      "[[332 106]\n",
      " [ 67 376]]\n",
      "[0.8, 0.78, 0.85, 0.81, 0.8, 0.61]\n",
      "#=======================================\n",
      "0 1000\n",
      "Model: facebook_0_1000.model\n"
     ]
    },
    {
     "name": "stderr",
     "output_type": "stream",
     "text": [
      "100%|██████████| 881/881 [17:49<00:00,  1.21s/it]\n"
     ]
    },
    {
     "name": "stdout",
     "output_type": "stream",
     "text": [
      "file: facebook, model: facebook_0_1000.model, testing time: 1069.4 seconds\n",
      "\n",
      "[[336 102]\n",
      " [104 339]]\n",
      "[0.77, 0.77, 0.77, 0.77, 0.77, 0.53]\n",
      "#=======================================\n",
      "0 1500\n",
      "Model: facebook_0_1500.model\n"
     ]
    },
    {
     "name": "stderr",
     "output_type": "stream",
     "text": [
      "100%|██████████| 881/881 [17:52<00:00,  1.22s/it]\n"
     ]
    },
    {
     "name": "stdout",
     "output_type": "stream",
     "text": [
      "file: facebook, model: facebook_0_1500.model, testing time: 1072.86 seconds\n",
      "\n",
      "[[320 118]\n",
      " [ 88 355]]\n",
      "[0.77, 0.75, 0.8, 0.78, 0.77, 0.53]\n",
      "#=======================================\n",
      "0 2000\n",
      "Model: facebook_0_2000.model\n"
     ]
    },
    {
     "name": "stderr",
     "output_type": "stream",
     "text": [
      "100%|██████████| 881/881 [17:52<00:00,  1.22s/it]\n"
     ]
    },
    {
     "name": "stdout",
     "output_type": "stream",
     "text": [
      "file: facebook, model: facebook_0_2000.model, testing time: 1072.11 seconds\n",
      "\n",
      "[[332 106]\n",
      " [ 81 362]]\n",
      "[0.79, 0.77, 0.82, 0.79, 0.79, 0.58]\n",
      "#=======================================\n",
      "0 2500\n",
      "Model: facebook_0_2500.model\n"
     ]
    },
    {
     "name": "stderr",
     "output_type": "stream",
     "text": [
      "100%|██████████| 881/881 [17:54<00:00,  1.22s/it]\n"
     ]
    },
    {
     "name": "stdout",
     "output_type": "stream",
     "text": [
      "file: facebook, model: facebook_0_2500.model, testing time: 1074.1 seconds\n",
      "\n",
      "[[314 124]\n",
      " [ 72 371]]\n",
      "[0.78, 0.75, 0.84, 0.79, 0.78, 0.56]\n",
      "#=======================================\n",
      "0 3000\n",
      "Model: facebook_0_3000.model\n"
     ]
    },
    {
     "name": "stderr",
     "output_type": "stream",
     "text": [
      "100%|██████████| 881/881 [18:04<00:00,  1.23s/it]\n"
     ]
    },
    {
     "name": "stdout",
     "output_type": "stream",
     "text": [
      "file: facebook, model: facebook_0_3000.model, testing time: 1084.09 seconds\n",
      "\n",
      "[[322 116]\n",
      " [ 82 361]]\n",
      "[0.78, 0.76, 0.81, 0.78, 0.78, 0.55]\n",
      "#=======================================\n",
      "0 3500\n",
      "Model: facebook_0_3500.model\n"
     ]
    },
    {
     "name": "stderr",
     "output_type": "stream",
     "text": [
      "100%|██████████| 881/881 [18:05<00:00,  1.23s/it]\n"
     ]
    },
    {
     "name": "stdout",
     "output_type": "stream",
     "text": [
      "file: facebook, model: facebook_0_3500.model, testing time: 1085.22 seconds\n",
      "\n",
      "[[336 102]\n",
      " [101 342]]\n",
      "[0.77, 0.77, 0.77, 0.77, 0.77, 0.54]\n",
      "#=======================================\n",
      "0 3523\n",
      "Model: facebook_0_3523.model\n"
     ]
    },
    {
     "name": "stderr",
     "output_type": "stream",
     "text": [
      "100%|██████████| 881/881 [00:56<00:00, 15.59it/s]\n"
     ]
    },
    {
     "name": "stdout",
     "output_type": "stream",
     "text": [
      "file: facebook, model: facebook_0_3523.model, testing time: 56.51 seconds\n",
      "\n",
      "[[118 320]\n",
      " [ 59 384]]\n",
      "[0.57, 0.55, 0.87, 0.67, 0.57, 0.17]\n",
      "#=======================================\n",
      "#=================xxxxxxx======================\n",
      "kiwis\n",
      "(1227, 6) (1227,) Counter({0: 634, 1: 593})\n",
      "0 500\n",
      "Model: kiwis_0_500.model\n"
     ]
    },
    {
     "name": "stderr",
     "output_type": "stream",
     "text": [
      "100%|██████████| 1227/1227 [24:55<00:00,  1.22s/it]\n"
     ]
    },
    {
     "name": "stdout",
     "output_type": "stream",
     "text": [
      "file: kiwis, model: kiwis_0_500.model, testing time: 1495.7 seconds\n",
      "\n",
      "[[438 196]\n",
      " [241 352]]\n",
      "[0.64, 0.64, 0.59, 0.62, 0.64, 0.29]\n",
      "#=======================================\n",
      "0 1000\n",
      "Model: kiwis_0_1000.model\n"
     ]
    },
    {
     "name": "stderr",
     "output_type": "stream",
     "text": [
      "100%|██████████| 1227/1227 [24:48<00:00,  1.21s/it]\n"
     ]
    },
    {
     "name": "stdout",
     "output_type": "stream",
     "text": [
      "file: kiwis, model: kiwis_0_1000.model, testing time: 1488.82 seconds\n",
      "\n",
      "[[395 239]\n",
      " [203 390]]\n",
      "[0.64, 0.62, 0.66, 0.64, 0.64, 0.28]\n",
      "#=======================================\n",
      "0 1500\n",
      "Model: kiwis_0_1500.model\n"
     ]
    },
    {
     "name": "stderr",
     "output_type": "stream",
     "text": [
      "100%|██████████| 1227/1227 [24:55<00:00,  1.22s/it]\n"
     ]
    },
    {
     "name": "stdout",
     "output_type": "stream",
     "text": [
      "file: kiwis, model: kiwis_0_1500.model, testing time: 1495.57 seconds\n",
      "\n",
      "[[416 218]\n",
      " [203 390]]\n",
      "[0.66, 0.64, 0.66, 0.65, 0.66, 0.31]\n",
      "#=======================================\n",
      "0 2000\n",
      "Model: kiwis_0_2000.model\n"
     ]
    },
    {
     "name": "stderr",
     "output_type": "stream",
     "text": [
      "100%|██████████| 1227/1227 [24:51<00:00,  1.22s/it]\n"
     ]
    },
    {
     "name": "stdout",
     "output_type": "stream",
     "text": [
      "file: kiwis, model: kiwis_0_2000.model, testing time: 1491.32 seconds\n",
      "\n",
      "[[394 240]\n",
      " [204 389]]\n",
      "[0.64, 0.62, 0.66, 0.64, 0.64, 0.28]\n",
      "#=======================================\n",
      "0 2500\n",
      "Model: kiwis_0_2500.model\n"
     ]
    },
    {
     "name": "stderr",
     "output_type": "stream",
     "text": [
      "100%|██████████| 1227/1227 [24:43<00:00,  1.21s/it]\n"
     ]
    },
    {
     "name": "stdout",
     "output_type": "stream",
     "text": [
      "file: kiwis, model: kiwis_0_2500.model, testing time: 1483.7 seconds\n",
      "\n",
      "[[409 225]\n",
      " [224 369]]\n",
      "[0.63, 0.62, 0.62, 0.62, 0.63, 0.27]\n",
      "#=======================================\n",
      "0 3000\n",
      "Model: kiwis_0_3000.model\n"
     ]
    },
    {
     "name": "stderr",
     "output_type": "stream",
     "text": [
      "100%|██████████| 1227/1227 [24:43<00:00,  1.21s/it]\n"
     ]
    },
    {
     "name": "stdout",
     "output_type": "stream",
     "text": [
      "file: kiwis, model: kiwis_0_3000.model, testing time: 1483.5 seconds\n",
      "\n",
      "[[372 262]\n",
      " [200 393]]\n",
      "[0.62, 0.6, 0.66, 0.63, 0.62, 0.25]\n",
      "#=======================================\n",
      "0 3500\n",
      "Model: kiwis_0_3500.model\n"
     ]
    },
    {
     "name": "stderr",
     "output_type": "stream",
     "text": [
      " 28%|██▊       | 338/1227 [06:48<17:59,  1.21s/it]IOPub message rate exceeded.\n",
      "The Jupyter server will temporarily stop sending output\n",
      "to the client in order to avoid crashing it.\n",
      "To change this limit, set the config variable\n",
      "`--ServerApp.iopub_msg_rate_limit`.\n",
      "\n",
      "Current values:\n",
      "ServerApp.iopub_msg_rate_limit=1000.0 (msgs/sec)\n",
      "ServerApp.rate_limit_window=3.0 (secs)\n",
      "\n",
      "100%|██████████| 843/843 [1:20:46<00:00,  5.75s/it]\n"
     ]
    },
    {
     "name": "stdout",
     "output_type": "stream",
     "text": [
      "file: jm1, model: jm1_0_2500.model, testing time: 4846.06 seconds\n",
      "\n",
      "[[178 235]\n",
      " [136 294]]\n",
      "[0.56, 0.56, 0.68, 0.61, 0.56, 0.12]\n",
      "#=======================================\n",
      "0 3000\n",
      "Model: jm1_0_3000.model\n"
     ]
    },
    {
     "name": "stderr",
     "output_type": "stream",
     "text": [
      "100%|██████████| 843/843 [1:21:08<00:00,  5.78s/it]\n"
     ]
    },
    {
     "name": "stdout",
     "output_type": "stream",
     "text": [
      "file: jm1, model: jm1_0_3000.model, testing time: 4868.34 seconds\n",
      "\n",
      "[[304 109]\n",
      " [288 142]]\n",
      "[0.53, 0.57, 0.33, 0.42, 0.53, 0.07]\n",
      "#=======================================\n",
      "0 3369\n",
      "Model: jm1_0_3369.model\n"
     ]
    },
    {
     "name": "stderr",
     "output_type": "stream",
     "text": [
      "100%|██████████| 843/843 [59:56<00:00,  4.27s/it] \n"
     ]
    },
    {
     "name": "stdout",
     "output_type": "stream",
     "text": [
      "file: jm1, model: jm1_0_3369.model, testing time: 3596.98 seconds\n",
      "\n",
      "[[ 60 353]\n",
      " [ 45 385]]\n",
      "[0.53, 0.52, 0.9, 0.66, 0.52, 0.06]\n",
      "#=======================================\n",
      "#=================xxxxxxx======================\n",
      "camel\n",
      "(400, 10) (400,) Counter({0: 200, 1: 200})\n",
      "0 500\n",
      "Model: camel_0_500.model\n"
     ]
    },
    {
     "name": "stderr",
     "output_type": "stream",
     "text": [
      "100%|██████████| 400/400 [34:13<00:00,  5.13s/it]\n"
     ]
    },
    {
     "name": "stdout",
     "output_type": "stream",
     "text": [
      "file: camel, model: camel_0_500.model, testing time: 2053.66 seconds\n",
      "\n",
      "[[145  55]\n",
      " [ 27 173]]\n",
      "[0.8, 0.76, 0.86, 0.81, 0.8, 0.6]\n",
      "#=======================================\n",
      "0 928\n",
      "Model: camel_0_928.model\n"
     ]
    },
    {
     "name": "stderr",
     "output_type": "stream",
     "text": [
      "100%|██████████| 400/400 [29:55<00:00,  4.49s/it]\n"
     ]
    },
    {
     "name": "stdout",
     "output_type": "stream",
     "text": [
      "file: camel, model: camel_0_928.model, testing time: 1795.21 seconds\n",
      "\n",
      "[[118  82]\n",
      " [ 21 179]]\n",
      "[0.74, 0.69, 0.9, 0.78, 0.74, 0.51]\n",
      "#=======================================\n",
      "#=================xxxxxxx======================\n",
      "os\n",
      "(404, 10) (404,) Counter({1: 202, 0: 202})\n",
      "0 500\n",
      "Model: os_0_500.model\n"
     ]
    },
    {
     "name": "stderr",
     "output_type": "stream",
     "text": [
      "100%|██████████| 404/404 [26:48<00:00,  3.98s/it]\n"
     ]
    },
    {
     "name": "stdout",
     "output_type": "stream",
     "text": [
      "file: os, model: os_0_500.model, testing time: 1608.57 seconds\n",
      "\n",
      "[[139  63]\n",
      " [ 99 103]]\n",
      "[0.6, 0.62, 0.51, 0.56, 0.6, 0.2]\n",
      "#=======================================\n",
      "0 936\n",
      "Model: os_0_936.model\n"
     ]
    },
    {
     "name": "stderr",
     "output_type": "stream",
     "text": [
      "100%|██████████| 404/404 [23:22<00:00,  3.47s/it]"
     ]
    },
    {
     "name": "stdout",
     "output_type": "stream",
     "text": [
      "file: os, model: os_0_936.model, testing time: 1402.66 seconds\n",
      "\n",
      "[[106  96]\n",
      " [ 86 116]]\n",
      "[0.55, 0.55, 0.57, 0.56, 0.55, 0.1]\n",
      "#=======================================\n",
      "#=================xxxxxxx======================\n"
     ]
    },
    {
     "name": "stderr",
     "output_type": "stream",
     "text": [
      "\n"
     ]
    }
   ],
   "source": [
    "list_predictions = []\n",
    "for filename in ['facebook', 'kiwis', 'jm1', 'camel', 'os']: #'anysoftkeyboard', \n",
    "    #filename = \"anysoftkeyboard\"\n",
    "    print(filename)\n",
    "    testX, testY = read_df(data_dir + 'b_'+filename+'_test.csv')\n",
    "    print(testX.shape, testY.shape, Counter(testY))\n",
    "\n",
    "    y_filename = f'output/test_dump/{filename}_testY.txt'\n",
    "    save_to_file(testY, y_filename)\n",
    "\n",
    "    train_len = ss_dict[filename][0]\n",
    "    cur_predictions = []\n",
    "    x_st = 0\n",
    "    for x_end in list(range(500, train_len, 500))+[train_len]:\n",
    "        print(x_st, x_end)\n",
    "        model_name = f\"{filename}_{x_st}_{x_end}.model\"\n",
    "     \n",
    "        print(f\"Model: {model_name}\")\n",
    "        clf = QSVC.load(f\"inc_saved_models/{model_name}\") #Load QSVC \n",
    "        predict1D, runtime = inc_prediction(clf, testX)   \n",
    "        cur_predictions.append(predict1D)\n",
    "        print(f'file: {filename}, model: {model_name}, testing time: {runtime} seconds\\n')\n",
    "\n",
    "        print(confusion_matrix(testY, predict1D))\n",
    "        print(print_result(testY, predict1D))\n",
    "\n",
    "        outfilename = model_name.replace('.model', '')\n",
    "        save_to_file(predict1D, f'output/test_dump/{outfilename}.txt')\n",
    "        print(\"#=======================================\")\n",
    "        \n",
    "    list_predictions.append(cur_predictions)\n",
    "    print(\"#=================xxxxxxx======================\")"
   ]
  },
  {
   "cell_type": "code",
   "execution_count": null,
   "id": "eb5ece1d-69d2-430b-9828-2dbceedb1ef2",
   "metadata": {},
   "outputs": [],
   "source": [
    "#BREAK POINT!!!"
   ]
  }
 ],
 "metadata": {
  "kernelspec": {
   "display_name": "Python 3 (ipykernel)",
   "language": "python",
   "name": "python3"
  },
  "language_info": {
   "codemirror_mode": {
    "name": "ipython",
    "version": 3
   },
   "file_extension": ".py",
   "mimetype": "text/x-python",
   "name": "python",
   "nbconvert_exporter": "python",
   "pygments_lexer": "ipython3",
   "version": "3.10.9"
  }
 },
 "nbformat": 4,
 "nbformat_minor": 5
}
