{
 "cells": [
  {
   "cell_type": "code",
   "execution_count": 1,
   "id": "939ca7e4-c7ab-4139-8f1d-88e306a7408a",
   "metadata": {},
   "outputs": [],
   "source": [
    "import pandas as pd\n",
    "from collections import Counter\n",
    "from sklearn.metrics import confusion_matrix\n",
    "import json\n",
    "import numpy as np\n",
    "\n",
    "from custom_functions import read_df, print_result, aggregate_pred, plot_prediction, read_prediction, find_top_index #, getQAlgo, aggregate_pred, weighted_average, "
   ]
  },
  {
   "cell_type": "code",
   "execution_count": 42,
   "id": "dc1c5c7b-d555-430c-b689-d7538b8baeea",
   "metadata": {},
   "outputs": [
    {
     "name": "stdout",
     "output_type": "stream",
     "text": [
      "kiwis\n",
      "[2, 0.66, 0.64, 0.66, 0.65, 0.66, 0.31]\n",
      "[1, 0.64, 0.62, 0.66, 0.64, 0.64, 0.28]\n",
      "[3, 0.64, 0.62, 0.66, 0.64, 0.64, 0.28]\n",
      "[6, 0.65, 0.63, 0.65, 0.64, 0.65, 0.29]\n",
      "[7, 0.65, 0.64, 0.65, 0.64, 0.65, 0.3]\n",
      "[5, 0.62, 0.6, 0.66, 0.63, 0.62, 0.25]\n",
      "[0, 0.64, 0.64, 0.59, 0.62, 0.64, 0.29]\n",
      "[4, 0.63, 0.62, 0.62, 0.62, 0.63, 0.27]\n",
      "[8, 0.66, 0.67, 0.58, 0.62, 0.65, 0.31]\n",
      "[9, 0.63, 0.63, 0.56, 0.59, 0.63, 0.25]\n",
      "=============================\n",
      "[0.59, 0.86, 0.19, 0.31, 0.58, 0.26]\n",
      "[[616  18]\n",
      " [480 113]]\n",
      "\n",
      "[0.64, 0.64, 0.59, 0.62, 0.64, 0.29]\n",
      "[0.64, 0.62, 0.66, 0.64, 0.64, 0.28]\n",
      "[0.66, 0.64, 0.66, 0.65, 0.66, 0.31]\n",
      "[0.64, 0.62, 0.66, 0.64, 0.64, 0.28]\n",
      "[0.63, 0.62, 0.62, 0.62, 0.63, 0.27]\n",
      "[0.62, 0.6, 0.66, 0.63, 0.62, 0.25]\n",
      "[0.65, 0.63, 0.65, 0.64, 0.65, 0.29]\n",
      "[0.65, 0.64, 0.65, 0.64, 0.65, 0.3]\n",
      "[0.66, 0.67, 0.58, 0.62, 0.65, 0.31]\n",
      "[0.63, 0.63, 0.56, 0.59, 0.63, 0.25]\n"
     ]
    }
   ],
   "source": [
    "data_dir = \"datasets/balanced/\"\n",
    "out_dir = \"output/test_dump/\"\n",
    "filename = \"anysoftkeyboard\"\n",
    "\n",
    "with open('datasets/balanced/ss_dict.json', 'r') as f:\n",
    "    ss_dict = json.load(f)\n",
    "\n",
    "for filename in ['kiwis']: #'anysoftkeyboard', facebook, 'kiwis', 'jm1', 'camel', 'os'\n",
    "    print(filename)\n",
    "    train_len = ss_dict[filename][0] #length from file\n",
    "    list_predictions = []\n",
    "    x_st = 0\n",
    "\n",
    "    list_predictions = []\n",
    "    results= []\n",
    "    res_index = 0\n",
    "\n",
    "    testY = read_prediction(f\"{out_dir}{filename}_testY.txt\")\n",
    "    for x_end in list(range(500, train_len, 500))+[train_len]:\n",
    "        out_file_name = f\"{out_dir}{filename}_0_{x_end}.txt\"\n",
    "        #print(out_file_name)\n",
    "        predict = read_prediction(out_file_name)\n",
    "        list_predictions.append(predict)\n",
    "        # print(confusion_matrix(testY, predict))\n",
    "        results.append([res_index] + print_result(testY, predict))\n",
    "        res_index +=1\n",
    "\n",
    "    top_index = find_top_index(results, show_result=True) #5 results by default.\n",
    "    print(\"=============================\")\n",
    "    \n",
    "    all_flg =1\n",
    "    print(print_result(testY, aggregate_pred(list_predictions, flag=all_flg)))\n",
    "    print(confusion_matrix(testY, aggregate_pred(list_predictions, flag=all_flg)))\n",
    "    print()\n",
    "    \n",
    "    for r in results:\n",
    "        print(r[1:])\n",
    "\n",
    "    break"
   ]
  },
  {
   "cell_type": "code",
   "execution_count": null,
   "id": "36df1ae5-5cd2-4026-ba74-34b990903ac6",
   "metadata": {},
   "outputs": [],
   "source": []
  }
 ],
 "metadata": {
  "kernelspec": {
   "display_name": "Python 3 (ipykernel)",
   "language": "python",
   "name": "python3"
  },
  "language_info": {
   "codemirror_mode": {
    "name": "ipython",
    "version": 3
   },
   "file_extension": ".py",
   "mimetype": "text/x-python",
   "name": "python",
   "nbconvert_exporter": "python",
   "pygments_lexer": "ipython3",
   "version": "3.10.9"
  }
 },
 "nbformat": 4,
 "nbformat_minor": 5
}
